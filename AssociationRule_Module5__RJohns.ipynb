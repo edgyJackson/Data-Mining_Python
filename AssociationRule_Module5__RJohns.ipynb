{
 "cells": [
  {
   "cell_type": "code",
   "execution_count": null,
   "metadata": {},
   "outputs": [],
   "source": []
  },
  {
   "cell_type": "code",
   "execution_count": null,
   "metadata": {},
   "outputs": [],
   "source": []
  },
  {
   "cell_type": "code",
   "execution_count": null,
   "metadata": {},
   "outputs": [],
   "source": [
    "#1 script implementing Apriori algorythm for itemset mining\n",
    "import numpy as np\n",
    "import matplotlib.pyplot as plt\n",
    "import pandas as pd\n",
    "from apyori import apriori\n",
    "\n",
    "\n",
    "\n",
    "\n",
    "# ----------Loaded raw transactions into numpy array----------------\n",
    "rawdata = np.load('raw_transactions.npy')\n",
    "\n",
    "\n",
    "# --------loaded rawdata array into pandas data set-------------\n",
    "dataset = pd.DataFrame(rawdata)\n",
    "\n",
    "#--------convert dataset into a list of lists----------------------\n",
    "transactions = []\n",
    "for i in range(0,8124):\n",
    "    transactions.append([str(dataset.values[i,j]) for j in range(0,23)])\n",
    "    \n",
    "    \n",
    "#2 ----------create rules and train Apriori--------------------\n",
    "rules1 = apriori(transactions, min_support = 0.003, min_confidence = 0.2, min_lift = 3, min_length = 2)\n"
   ]
  },
  {
   "cell_type": "code",
   "execution_count": null,
   "metadata": {},
   "outputs": [],
   "source": [
    "# ------generic rules settings---------------\n",
    "#min_sup = .003\n",
    "#min_confi = .2\n",
    "#min_lift = 3\n",
    "#min_length = 2\n",
    "result = (list(rules1[0]))\n",
    "print(result)"
   ]
  },
  {
   "cell_type": "code",
   "execution_count": null,
   "metadata": {},
   "outputs": [],
   "source": [
    "# ------minimum support levels for frequent itemsets of 3000---------------\n",
    "#min_sup = .007\n",
    "#min_confi = .8\n",
    "#min_lift = 3\n",
    "#min_length = 2\n",
    "#result = list(rules1)\n",
    "rules2 = apriori(transactions, min_support = 0.007, min_confidence = 0.2, min_lift = 3, min_length = 2)\n",
    "\n",
    "result2 = list(rules2)\n",
    "print(result2)"
   ]
  },
  {
   "cell_type": "code",
   "execution_count": null,
   "metadata": {},
   "outputs": [],
   "source": [
    "# ------minimum support levels for frequent itemsets of 5000---------------\n",
    "#min_sup = .004\n",
    "#min_confi = .2\n",
    "#min_lift = 3\n",
    "#min_length = 2\n",
    "#result = list(rules1)\n",
    "rules3 = apriori(transactions, min_support = 0.004, min_confidence = 0.2, min_lift = 3, min_length = 2)\n",
    "\n",
    "result3 = list(rules3)\n",
    "print(result3)"
   ]
  },
  {
   "cell_type": "code",
   "execution_count": null,
   "metadata": {},
   "outputs": [],
   "source": [
    "# ------minimum support confidence .8---------------\n",
    "\n",
    "rules4 = apriori(transactions, min_support = 0.004, min_confidence = 0.2, min_lift = 3, min_length = 2)\n",
    "\n",
    "result4 = list(rules4)\n",
    "\n",
    "print(result4)"
   ]
  },
  {
   "cell_type": "code",
   "execution_count": null,
   "metadata": {},
   "outputs": [],
   "source": []
  },
  {
   "cell_type": "code",
   "execution_count": null,
   "metadata": {},
   "outputs": [],
   "source": []
  },
  {
   "cell_type": "code",
   "execution_count": null,
   "metadata": {},
   "outputs": [],
   "source": []
  }
 ],
 "metadata": {
  "kernelspec": {
   "display_name": "Python 3",
   "language": "python",
   "name": "python3"
  },
  "language_info": {
   "codemirror_mode": {
    "name": "ipython",
    "version": 3
   },
   "file_extension": ".py",
   "mimetype": "text/x-python",
   "name": "python",
   "nbconvert_exporter": "python",
   "pygments_lexer": "ipython3",
   "version": "3.7.1"
  }
 },
 "nbformat": 4,
 "nbformat_minor": 2
}
