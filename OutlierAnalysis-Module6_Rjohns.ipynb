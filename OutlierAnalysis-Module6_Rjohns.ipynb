{
 "cells": [
  {
   "cell_type": "code",
   "execution_count": 7,
   "metadata": {},
   "outputs": [
    {
     "name": "stdout",
     "output_type": "stream",
     "text": [
      "8 1 float64 (10000,)\n",
      "[42.22670059 60.50752623 57.62726847 ... 40.67781771 58.29258401\n",
      " 36.67346682]\n"
     ]
    }
   ],
   "source": [
    "import numpy as np\n",
    "from scipy import stats as st\n",
    "import matplotlib.pyplot as plt\n",
    "%matplotlib inline\n",
    "\n",
    "\n",
    "O_data = np.load('O_data.npy')\n",
    "print(O_data.itemsize, O_data.ndim, O_data.dtype, O_data.shape,)\n",
    "print(O_data)"
   ]
  },
  {
   "cell_type": "code",
   "execution_count": 8,
   "metadata": {},
   "outputs": [
    {
     "name": "stdout",
     "output_type": "stream",
     "text": [
      "mean of O data:  50.3324924158986 \n",
      "\n",
      "median of O data:  49.99696148252969 \n",
      "\n",
      "variance of O data:  115.88565801835402\n"
     ]
    }
   ],
   "source": [
    "#1: print the mean/median/variance\n",
    "print(\"mean of O data: \", np.mean(O_data, axis = 0), \"\\n\")\n",
    "print(\"median of O data: \", np.median(O_data, axis = 0), \"\\n\")\n",
    "print(\"variance of O data: \", np.var(O_data, axis = 0))\n"
   ]
  },
  {
   "cell_type": "code",
   "execution_count": 81,
   "metadata": {},
   "outputs": [
    {
     "data": {
      "text/plain": [
       "(10000,)"
      ]
     },
     "execution_count": 81,
     "metadata": {},
     "output_type": "execute_result"
    },
    {
     "data": {
      "image/png": "[encoded data removed]",
      "text/plain": [
       "<Figure size 432x288 with 1 Axes>"
      ]
     },
     "metadata": {},
     "output_type": "display_data"
    }
   ],
   "source": [
    "#2 plot a histogram for the observations\n",
    "plt.hist(O_data, alpha = 0.7, bins = 50);\n",
    "\n",
    "plt.title(' O Data Histogram')\n",
    "plt.xlabel('numbers')\n",
    "plt.ylabel('more numbers');\n",
    "O_data.shape"
   ]
  },
  {
   "cell_type": "code",
   "execution_count": 82,
   "metadata": {},
   "outputs": [],
   "source": [
    "#3 Yes some observations are spurious, and I can see outliers on both upper\n",
    "#and lower ends of the observed range of values\n"
   ]
  },
  {
   "cell_type": "code",
   "execution_count": 110,
   "metadata": {},
   "outputs": [
    {
     "data": {
      "text/plain": [
       "(49.999811652168596, 50.6651731796286)"
      ]
     },
     "execution_count": 110,
     "metadata": {},
     "output_type": "execute_result"
    }
   ],
   "source": [
    "#4 retrieve the limits for .998 confidence interval \n",
    "\n",
    "\n",
    "\n",
    "R = st.norm.interval(.998, loc=np.mean(O_data), scale=st.sem(O_data))\n",
    "R"
   ]
  },
  {
   "cell_type": "code",
   "execution_count": 111,
   "metadata": {
    "scrolled": true
   },
   "outputs": [
    {
     "data": {
      "text/plain": [
       "(10,)"
      ]
     },
     "execution_count": 111,
     "metadata": {},
     "output_type": "execute_result"
    }
   ],
   "source": [
    "#4 set Xmin/Xmax range of histogram values based on values retrieved from confidence int.\n",
    "\n",
    "filt_Obs = np.histogram(O_data, range=R)\n",
    "\n",
    "filt_Obs[0].shape\n",
    "\n",
    "\n"
   ]
  },
  {
   "cell_type": "code",
   "execution_count": 112,
   "metadata": {},
   "outputs": [
    {
     "name": "stdout",
     "output_type": "stream",
     "text": [
      "mean of filtered  data:  28.5 \n",
      "\n",
      "median of filtered data:  29.0 \n",
      "\n",
      "variance of filtered data:  5.65\n"
     ]
    },
    {
     "data": {
      "text/plain": [
       "(array([30., 26., 30., 27., 32., 27., 30., 24., 28., 31.]),\n",
       " array([49.99981165, 50.0663478 , 50.13288396, 50.19942011, 50.26595626,\n",
       "        50.33249242, 50.39902857, 50.46556472, 50.53210087, 50.59863703,\n",
       "        50.66517318]),\n",
       " <a list of 10 Patch objects>)"
      ]
     },
     "execution_count": 112,
     "metadata": {},
     "output_type": "execute_result"
    },
    {
     "data": {
      "image/png": "[encoded data removed]",
      "text/plain": [
       "<Figure size 432x288 with 1 Axes>"
      ]
     },
     "metadata": {},
     "output_type": "display_data"
    }
   ],
   "source": [
    "#5 determine mean median and variance of filtered observations and plot hist\n",
    "\n",
    "print(\"mean of filtered  data: \", np.mean(filt_Obs[0], axis = 0), \"\\n\")\n",
    "print(\"median of filtered data: \", np.median(filt_Obs[0], axis = 0), \"\\n\")\n",
    "print(\"variance of filtered data: \", np.var(filt_Obs[0], axis = 0))\n",
    "\n",
    "plt.hist(O_data, range=R)"
   ]
  },
  {
   "cell_type": "code",
   "execution_count": null,
   "metadata": {},
   "outputs": [],
   "source": [
    "#6 Outliers are removed\n",
    "#but I couldn't get it to look right. \n",
    "#The mean an median values don't line up.\n",
    "#for some reason there are only 10 observaions left\n",
    "#no matter what I choose as the confidence value, the graph is still\n",
    "#the same. I can't figure it out 8(\n",
    "#i don't know what I'm doing wrong\n",
    "\n"
   ]
  },
  {
   "cell_type": "code",
   "execution_count": 122,
   "metadata": {},
   "outputs": [],
   "source": [
    "#7 repeat steps 4 5, 6 with CI .99\n",
    "S = st.norm.interval(.99, loc=np.mean(O_data), scale=st.sem(O_data))\n",
    "S\n",
    "filt_Obs2 = np.histogram(O_data, range=R)"
   ]
  },
  {
   "cell_type": "code",
   "execution_count": 120,
   "metadata": {},
   "outputs": [
    {
     "name": "stdout",
     "output_type": "stream",
     "text": [
      "mean of filtered  data:  28.5 \n",
      "\n",
      "median of filtered data:  29.0 \n",
      "\n",
      "variance of filtered data:  5.65\n"
     ]
    },
    {
     "data": {
      "image/png": "[encoded data removed]",
      "text/plain": [
       "<Figure size 432x288 with 1 Axes>"
      ]
     },
     "metadata": {},
     "output_type": "display_data"
    }
   ],
   "source": [
    "\n",
    "print(\"mean of filtered  data: \", np.mean(filt_Obs2[0], axis = 0), \"\\n\")\n",
    "print(\"median of filtered data: \", np.median(filt_Obs2[0], axis = 0), \"\\n\")\n",
    "print(\"variance of filtered data: \", np.var(filt_Obs2[0], axis = 0))\n",
    "\n",
    "plt.hist(O_data, range=S);"
   ]
  },
  {
   "cell_type": "code",
   "execution_count": null,
   "metadata": {},
   "outputs": [],
   "source": [
    "#7 I don't think this is doing what it's supposed to do.\n",
    "#based on what I read on Con. Int. there should be an increase in agreement between the central tendencies\n",
    "#and a decrease in variance sense we are cutting down the wide range of the data set into\n",
    "#a more central representative block of its values. Beased on the results I got\n",
    "#I'm not able to tell the sufficiency of .998 ci vs .99\n",
    "#I tried to figure it out but it's just to hard to find adequeat directions on how to do it online in \n",
    "#python, the documentation really doesn't explain alot aboout it.\n",
    "\n",
    "#If there's anyway you could show me how this was supposed to be done carrectly that'd\n",
    "#be super cool thanks."
   ]
  }
 ],
 "metadata": {
  "kernelspec": {
   "display_name": "Python 3",
   "language": "python",
   "name": "python3"
  },
  "language_info": {
   "codemirror_mode": {
    "name": "ipython",
    "version": 3
   },
   "file_extension": ".py",
   "mimetype": "text/x-python",
   "name": "python",
   "nbconvert_exporter": "python",
   "pygments_lexer": "ipython3",
   "version": "3.6.5"
  }
 },
 "nbformat": 4,
 "nbformat_minor": 2
}
