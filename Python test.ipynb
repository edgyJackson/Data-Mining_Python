{
 "cells": [
  {
   "cell_type": "code",
   "execution_count": 1,
   "metadata": {},
   "outputs": [
    {
     "name": "stdout",
     "output_type": "stream",
     "text": [
      "2*3*4*5*6\n",
      "720\n"
     ]
    }
   ],
   "source": [
    "def f(r):\n",
    "    j = range(r)\n",
    "    \n",
    "    print(\"*\".join([str(i+2) for i in j]))\n",
    "    e = eval(\"*\".join([str(i+2) for i in j]))\n",
    "    return e \n",
    "print(f(5))"
   ]
  },
  {
   "cell_type": "code",
   "execution_count": 2,
   "metadata": {},
   "outputs": [
    {
     "name": "stdout",
     "output_type": "stream",
     "text": [
      "     *\n",
      "    ***\n",
      "   *****\n",
      "  *******\n",
      " *********\n",
      "*\n"
     ]
    }
   ],
   "source": [
    "def my_fun(s):\n",
    "    for i in range(len(s))[::1]:\n",
    "     print(\" \" * (len(s)-i) + (i * 2 + 1) * s[i])\n",
    "    print(s[i])\n",
    "        \n",
    "my_fun(\"*****\")"
   ]
  },
  {
   "cell_type": "code",
   "execution_count": 3,
   "metadata": {},
   "outputs": [
    {
     "name": "stdout",
     "output_type": "stream",
     "text": [
      "spam\n",
      "['spam', 1, 2] ['spam', 1, 2] spam\n"
     ]
    }
   ],
   "source": [
    "a = [0,1,2]\n",
    "b = a\n",
    "a[0] = \"spam\"\n",
    "print(b[0])\n",
    "print(b,a,b[0])"
   ]
  },
  {
   "cell_type": "code",
   "execution_count": 4,
   "metadata": {},
   "outputs": [
    {
     "name": "stdout",
     "output_type": "stream",
     "text": [
      "0, 1, 2, 6\n",
      "['0', '1', '2', '6']\n"
     ]
    }
   ],
   "source": [
    "print(', '.join(sorted('2016')))\n",
    "print(sorted('2016'))"
   ]
  },
  {
   "cell_type": "code",
   "execution_count": 5,
   "metadata": {},
   "outputs": [
    {
     "name": "stdout",
     "output_type": "stream",
     "text": [
      "[0, 2]\n",
      "0\n",
      "2\n"
     ]
    }
   ],
   "source": [
    "def select(i):\n",
    "    return i % 3\n",
    "\n",
    "print([select(x) for x in range(10) if x % 5 == 0])\n",
    "for x in range(10):\n",
    "    if x % 5 == 0:\n",
    "        print(select(x))"
   ]
  },
  {
   "cell_type": "code",
   "execution_count": 6,
   "metadata": {},
   "outputs": [
    {
     "name": "stdout",
     "output_type": "stream",
     "text": [
      "(1, 2) 0 0\n"
     ]
    }
   ],
   "source": [
    "a = 0\n",
    "b = 0\n",
    "x = [a,b]\n",
    "y = (1,2)\n",
    "x = y\n",
    "print(x,a,b)"
   ]
  },
  {
   "cell_type": "code",
   "execution_count": 7,
   "metadata": {},
   "outputs": [
    {
     "name": "stdout",
     "output_type": "stream",
     "text": [
      "['a', 'b', 'c'] [0, 2]\n",
      "b 2\n"
     ]
    }
   ],
   "source": [
    "try:\n",
    "    s = ['a','c']\n",
    "    n = [0,2]\n",
    "    s[1:1] = 'b'\n",
    "    print(s,n)\n",
    "    n[1:1] = 1\n",
    "    n[0] = 14\n",
    "    print(s,n)\n",
    "except:\n",
    "    pass\n",
    "print(s[1],n[1])"
   ]
  },
  {
   "cell_type": "code",
   "execution_count": 8,
   "metadata": {},
   "outputs": [
    {
     "name": "stdout",
     "output_type": "stream",
     "text": [
      "goal\n"
     ]
    }
   ],
   "source": [
    "a = ('la')\n",
    "b = ('g')\n",
    "c = a + 'o' + b \n",
    "print(c[::-1])"
   ]
  },
  {
   "cell_type": "code",
   "execution_count": 9,
   "metadata": {},
   "outputs": [
    {
     "name": "stdout",
     "output_type": "stream",
     "text": [
      "[3, 7, 4, 2, 5]\n",
      "2\n"
     ]
    }
   ],
   "source": [
    "a = list()\n",
    "a.append(7)\n",
    "a.extend([4,2])\n",
    "a+=[5]\n",
    "a.insert(0,3)\n",
    "\n",
    "print(a)\n",
    "print (a.index(4))"
   ]
  },
  {
   "cell_type": "code",
   "execution_count": 10,
   "metadata": {},
   "outputs": [
    {
     "name": "stdout",
     "output_type": "stream",
     "text": [
      "1 {'a'} aaa\n"
     ]
    }
   ],
   "source": [
    "city = \"caracas\"\n",
    "s = set(city[1::2])\n",
    "\n",
    "if('a' in s):\n",
    "    print(len(s), s, city[1::2])\n",
    "else:\n",
    "    print(len(city))\n",
    "        "
   ]
  },
  {
   "cell_type": "code",
   "execution_count": 11,
   "metadata": {},
   "outputs": [
    {
     "name": "stdout",
     "output_type": "stream",
     "text": [
      "-1.0\n"
     ]
    }
   ],
   "source": [
    "print((1j**2).real)"
   ]
  },
  {
   "cell_type": "code",
   "execution_count": 12,
   "metadata": {},
   "outputs": [
    {
     "name": "stdout",
     "output_type": "stream",
     "text": [
      "spam ['spam', 'ninja', 2] ['spam', 'ninja', 2]\n"
     ]
    }
   ],
   "source": [
    "a = [0,1,2]\n",
    "b = a\n",
    "a[0] = 'spam'\n",
    "b[1] = 'ninja'\n",
    "print(b[0],b,a)"
   ]
  },
  {
   "cell_type": "code",
   "execution_count": 13,
   "metadata": {},
   "outputs": [
    {
     "name": "stdout",
     "output_type": "stream",
     "text": [
      "732111"
     ]
    }
   ],
   "source": [
    "for n in range(1,7):\n",
    "    print(7//n,end = \"\")"
   ]
  },
  {
   "cell_type": "code",
   "execution_count": 14,
   "metadata": {},
   "outputs": [
    {
     "data": {
      "text/plain": [
       "array([[ 0,  1,  2,  3,  4,  5,  6,  7,  8],\n",
       "       [ 9, 10, 11, 12, 13, 14, 15, 16, 17],\n",
       "       [18, 19, 20, 21, 22, 23, 24, 25, 26],\n",
       "       [27, 28, 29, 30, 31, 32, 33, 34, 35],\n",
       "       [36, 37, 38, 39, 40, 41, 42, 43, 44],\n",
       "       [45, 46, 47, 48, 49, 50, 51, 52, 53],\n",
       "       [54, 55, 56, 57, 58, 59, 60, 61, 62],\n",
       "       [63, 64, 65, 66, 67, 68, 69, 70, 71],\n",
       "       [72, 73, 74, 75, 76, 77, 78, 79, 80],\n",
       "       [81, 82, 83, 84, 85, 86, 87, 88, 89]])"
      ]
     },
     "execution_count": 14,
     "metadata": {},
     "output_type": "execute_result"
    }
   ],
   "source": [
    "import numpy as np\n",
    "arr = np.arange(90)\n",
    "arr = arr.reshape(10,9)\n",
    "arr\n",
    "\n"
   ]
  },
  {
   "cell_type": "code",
   "execution_count": 15,
   "metadata": {},
   "outputs": [
    {
     "data": {
      "text/plain": [
       "array([[[ 0,  1,  2,  3,  4],\n",
       "        [ 5,  6,  7,  8,  9]],\n",
       "\n",
       "       [[10, 11, 12, 13, 14],\n",
       "        [15, 16, 17, 18, 19]],\n",
       "\n",
       "       [[20, 21, 22, 23, 24],\n",
       "        [25, 26, 27, 28, 29]],\n",
       "\n",
       "       [[30, 31, 32, 33, 34],\n",
       "        [35, 36, 37, 38, 39]],\n",
       "\n",
       "       [[40, 41, 42, 43, 44],\n",
       "        [45, 46, 47, 48, 49]],\n",
       "\n",
       "       [[50, 51, 52, 53, 54],\n",
       "        [55, 56, 57, 58, 59]],\n",
       "\n",
       "       [[60, 61, 62, 63, 64],\n",
       "        [65, 66, 67, 68, 69]],\n",
       "\n",
       "       [[70, 71, 72, 73, 74],\n",
       "        [75, 76, 77, 78, 79]],\n",
       "\n",
       "       [[80, 81, 82, 83, 84],\n",
       "        [85, 86, 87, 88, 89]]])"
      ]
     },
     "execution_count": 15,
     "metadata": {},
     "output_type": "execute_result"
    }
   ],
   "source": [
    "arr = arr.reshape(9,2,5)\n",
    "arr"
   ]
  },
  {
   "cell_type": "code",
   "execution_count": 16,
   "metadata": {},
   "outputs": [
    {
     "data": {
      "text/plain": [
       "40"
      ]
     },
     "execution_count": 16,
     "metadata": {},
     "output_type": "execute_result"
    }
   ],
   "source": [
    "arr[4][0][0]"
   ]
  },
  {
   "cell_type": "code",
   "execution_count": 17,
   "metadata": {},
   "outputs": [
    {
     "data": {
      "text/plain": [
       "<matplotlib.legend.Legend at 0x1d15f101400>"
      ]
     },
     "execution_count": 17,
     "metadata": {},
     "output_type": "execute_result"
    },
    {
     "data": {
      "image/png": "[encoded data removed]",
      "text/plain": [
       "<Figure size 432x288 with 1 Axes>"
      ]
     },
     "metadata": {
      "needs_background": "light"
     },
     "output_type": "display_data"
    }
   ],
   "source": [
    "%matplotlib inline\n",
    "import random\n",
    "import matplotlib.pyplot as plt\n",
    "x = np.arange(0,100)\n",
    "y=np.zeros(len(x))\n",
    "z=np.zeros(len(x))\n",
    "\n",
    "for i in range(len(x)):\n",
    "    y[i] = 2.0 *x[i] + 50*random.random()\n",
    "    z[i] = 250 *random.random() - 2.0*x[i]\n",
    "\n",
    "plt.figure()\n",
    "plt.plot(x,y,'ro',markersize=1,label='y')\n",
    "plt.plot(x,z,'bo',label='z',markersize=2)\n",
    "plt.legend(loc=3)"
   ]
  },
  {
   "cell_type": "code",
   "execution_count": 18,
   "metadata": {},
   "outputs": [
    {
     "data": {
      "text/plain": [
       "'1.15.4'"
      ]
     },
     "execution_count": 18,
     "metadata": {},
     "output_type": "execute_result"
    }
   ],
   "source": [
    "np.__version__"
   ]
  },
  {
   "cell_type": "code",
   "execution_count": null,
   "metadata": {},
   "outputs": [],
   "source": []
  }
 ],
 "metadata": {
  "kernelspec": {
   "display_name": "Python 3",
   "language": "python",
   "name": "python3"
  },
  "language_info": {
   "codemirror_mode": {
    "name": "ipython",
    "version": 3
   },
   "file_extension": ".py",
   "mimetype": "text/x-python",
   "name": "python",
   "nbconvert_exporter": "python",
   "pygments_lexer": "ipython3",
   "version": "3.7.1"
  }
 },
 "nbformat": 4,
 "nbformat_minor": 2
}
